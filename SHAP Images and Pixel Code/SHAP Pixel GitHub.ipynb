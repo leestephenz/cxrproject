{
 "cells": [
  {
   "cell_type": "code",
   "execution_count": 9,
   "id": "f34594a4",
   "metadata": {},
   "outputs": [
    {
     "name": "stdout",
     "output_type": "stream",
     "text": [
      "ResNet50 CXR 1: 6.284091925243674\n",
      "ResNet101 CXR 1: 67.47965662165787\n",
      "ResNet152 CXR 1: 87.68890279889118\n",
      "ResNet50 CXR 2: 56.39800995024875\n",
      "ResNet101 CXR 2: 83.56773062655417\n",
      "ResNet152 CXR 2: 96.99320397031208\n"
     ]
    }
   ],
   "source": [
    "############### PIXEL COUNTER ################\n",
    "\n",
    "from PIL import Image\n",
    "\n",
    "def quantify_non_black_and_white(image_path, threshold=30):\n",
    "\n",
    "    with Image.open(image_path) as img:\n",
    "        img = img.convert('RGB')\n",
    "\n",
    "        width, height = img.size\n",
    "\n",
    "        non_bw_pixel_count = 0\n",
    "\n",
    "        for x in range(width):\n",
    "            for y in range(height):\n",
    "                r, g, b = img.getpixel((x, y))\n",
    "\n",
    "                if (r != g or g != b or r != b):\n",
    "                    non_bw_pixel_count += 1\n",
    "\n",
    "        total_pixels = width * height\n",
    "        non_bw_percentage = (non_bw_pixel_count / total_pixels) * 100\n",
    "\n",
    "        return non_bw_percentage\n",
    "\n",
    "    \n",
    "############ Method Defined Above, Below Will Run the Above Method on Each Image ##########\n",
    "############ Need to Change Directories ###################################################\n",
    "    \n",
    "image_pathRN50CXR1 = 'C:\\\\Users\\\\leest\\\\OneDrive\\\\Desktop\\\\resnet50cxr1.png'\n",
    "print(\"ResNet50 CXR 1:\", quantify_non_black_and_white(image_pathRN50CXR1))\n",
    "\n",
    "image_pathRN101CXR1 = 'C:\\\\Users\\\\leest\\\\OneDrive\\\\Desktop\\\\resnet101cxr1.png'\n",
    "print(\"ResNet101 CXR 1:\", quantify_non_black_and_white(image_pathRN101CXR1))\n",
    "\n",
    "image_pathRN152CXR1 = 'C:\\\\Users\\\\leest\\\\OneDrive\\\\Desktop\\\\resnet152cxr1.png'\n",
    "print(\"ResNet152 CXR 1:\", quantify_non_black_and_white(image_pathRN152CXR1))\n",
    "\n",
    "image_pathRN50CXR2 = 'C:\\\\Users\\\\leest\\\\OneDrive\\\\Desktop\\\\resnet50cxr2.png'\n",
    "print(\"ResNet50 CXR 2:\", quantify_non_black_and_white(image_pathRN50CXR2))\n",
    "\n",
    "image_pathRN101CXR2 = 'C:\\\\Users\\\\leest\\\\OneDrive\\\\Desktop\\\\resnet101cxr2.png'\n",
    "print(\"ResNet101 CXR 2:\", quantify_non_black_and_white(image_pathRN101CXR2))\n",
    "\n",
    "image_pathRN152CXR2 = 'C:\\\\Users\\\\leest\\\\OneDrive\\\\Desktop\\\\resnet152cxr2.png'\n",
    "print(\"ResNet152 CXR 2:\", quantify_non_black_and_white(image_pathRN152CXR2))"
   ]
  },
  {
   "cell_type": "code",
   "execution_count": null,
   "id": "35fb1705",
   "metadata": {},
   "outputs": [],
   "source": []
  }
 ],
 "metadata": {
  "kernelspec": {
   "display_name": "TensorFlow GPU",
   "language": "python",
   "name": "cxrgputf"
  },
  "language_info": {
   "codemirror_mode": {
    "name": "ipython",
    "version": 3
   },
   "file_extension": ".py",
   "mimetype": "text/x-python",
   "name": "python",
   "nbconvert_exporter": "python",
   "pygments_lexer": "ipython3",
   "version": "3.9.16"
  }
 },
 "nbformat": 4,
 "nbformat_minor": 5
}
